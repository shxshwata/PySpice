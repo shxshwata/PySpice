{
 "cells": [
  {
   "cell_type": "code",
   "execution_count": 1,
   "id": "c1dd8a7e-2db7-4b99-8723-23b2e56c8656",
   "metadata": {},
   "outputs": [],
   "source": [
    "import PySpice.Logging.Logging as Logging\n",
    "logger = Logging.setup_logging()"
   ]
  },
  {
   "cell_type": "code",
   "execution_count": 2,
   "id": "716aa072-18f7-455f-b9a6-89b1a391156c",
   "metadata": {},
   "outputs": [],
   "source": [
    "from PySpice.Spice.Netlist import Circuit\n",
    "from PySpice.Unit import *\n",
    "import numpy as np"
   ]
  },
  {
   "cell_type": "code",
   "execution_count": 3,
   "id": "b3ddb3e5-baa0-4676-8bfb-e89d1f35f8da",
   "metadata": {},
   "outputs": [],
   "source": [
    "circuit = Circuit('Circuit with CCCS')"
   ]
  },
  {
   "cell_type": "code",
   "execution_count": 4,
   "id": "eb63c013-006e-4b60-8786-511ae3c4126f",
   "metadata": {},
   "outputs": [
    {
     "data": {
      "text/plain": [
       "Resistor R4"
      ]
     },
     "execution_count": 4,
     "metadata": {},
     "output_type": "execute_result"
    }
   ],
   "source": [
    "circuit.R(1, 2, 3, 6@u_Ω)             \n",
    "circuit.R(2, 3, circuit.gnd, 8@u_Ω)   \n",
    "circuit.R(3, 3, 4, 2@u_Ω)             \n",
    "circuit.R(4, 4, circuit.gnd, 4@u_Ω)  "
   ]
  },
  {
   "cell_type": "code",
   "execution_count": 5,
   "id": "851af75d-3c1d-42e5-a147-b35fc29c883a",
   "metadata": {},
   "outputs": [
    {
     "data": {
      "text/plain": [
       "VoltageSource V1"
      ]
     },
     "execution_count": 5,
     "metadata": {},
     "output_type": "execute_result"
    }
   ],
   "source": [
    "circuit.V(1, 1, circuit.gnd, 50@u_V)"
   ]
  },
  {
   "cell_type": "code",
   "execution_count": 6,
   "id": "42737b05-6563-4338-8d1f-b04e0ec4b63b",
   "metadata": {},
   "outputs": [
    {
     "data": {
      "text/plain": [
       "VoltageSource Vtest"
      ]
     },
     "execution_count": 6,
     "metadata": {},
     "output_type": "execute_result"
    }
   ],
   "source": [
    "circuit.V('test', 1, 2, 0@u_V)"
   ]
  },
  {
   "cell_type": "code",
   "execution_count": 7,
   "id": "fdedb8cd-73e9-46de-ad3f-1872df7ecc4a",
   "metadata": {},
   "outputs": [
    {
     "data": {
      "text/plain": [
       "CurrentControlledCurrentSource F1"
      ]
     },
     "execution_count": 7,
     "metadata": {},
     "output_type": "execute_result"
    }
   ],
   "source": [
    "circuit.I(1, circuit.gnd, 4, 5@u_A)\n",
    "circuit.F(1, 4, 3, 'Vtest', 3)"
   ]
  },
  {
   "cell_type": "code",
   "execution_count": 8,
   "id": "b33720f5-583e-44df-b378-2f4397dafd23",
   "metadata": {},
   "outputs": [
    {
     "name": "stdout",
     "output_type": "stream",
     "text": [
      "2025-05-25 12:28:20,752 - PySpice.Spice.NgSpice.Shared.NgSpiceShared - Shared.WARNING - Warning: can't find the initialization file spinit.\n",
      "2025-05-25 12:28:20,761 - PySpice.Spice.NgSpice.Shared.NgSpiceShared - Shared.WARNING - Unsupported Ngspice version 44\n"
     ]
    }
   ],
   "source": [
    "simulator = circuit.simulator(temperature=25, nominal_temperature=25)\n",
    "analysis = simulator.operating_point()"
   ]
  },
  {
   "cell_type": "code",
   "execution_count": 9,
   "id": "9ea75c98-3e8d-4d87-8411-caf92cc2326a",
   "metadata": {},
   "outputs": [
    {
     "name": "stdout",
     "output_type": "stream",
     "text": [
      "Node 1: 50.00 V\n",
      "Node 4: 2.22 V\n",
      "Node 3: 26.67 V\n",
      "Node 2: 50.00 V\n"
     ]
    }
   ],
   "source": [
    "for name, node in analysis.nodes.items():\n",
    "    value = node if np.isscalar(node) else node[0]\n",
    "    print(f'Node {name}: {float(value):.2f} V')"
   ]
  },
  {
   "cell_type": "code",
   "execution_count": 10,
   "id": "c239fad2-cded-4402-8440-48a74b344256",
   "metadata": {},
   "outputs": [
    {
     "name": "stdout",
     "output_type": "stream",
     "text": [
      "Branch v1: -3.89 A\n",
      "Branch vtest: 3.89 A\n"
     ]
    }
   ],
   "source": [
    "for name, branch in analysis.branches.items():\n",
    "    value = branch if np.isscalar(branch) else branch[0]\n",
    "    print(f'Branch {name}: {float(value):.2f} A')"
   ]
  }
 ],
 "metadata": {
  "kernelspec": {
   "display_name": "Python 3 (ipykernel)",
   "language": "python",
   "name": "python3"
  },
  "language_info": {
   "codemirror_mode": {
    "name": "ipython",
    "version": 3
   },
   "file_extension": ".py",
   "mimetype": "text/x-python",
   "name": "python",
   "nbconvert_exporter": "python",
   "pygments_lexer": "ipython3",
   "version": "3.9.4"
  }
 },
 "nbformat": 4,
 "nbformat_minor": 5
}
