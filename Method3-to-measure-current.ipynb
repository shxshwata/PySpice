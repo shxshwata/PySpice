{
 "cells": [
  {
   "cell_type": "code",
   "execution_count": 5,
   "id": "870cf25a-7f79-4925-84fd-df9ee393ebf3",
   "metadata": {},
   "outputs": [
    {
     "name": "stdout",
     "output_type": "stream",
     "text": [
      "Node Voltages:\n",
      "Node 3: 21.05 V\n",
      "Node 2: 31.58 V\n",
      "Node 1: 50.00 V\n",
      "\n",
      "Resistor Currents:\n",
      "I1 (R1): 3.684e+00 A\n",
      "I2 (R2): 3.158e+00 A\n",
      "I3 (R3): 5.263e-01 A\n",
      "I4 (R4): 5.263e-01 A\n"
     ]
    },
    {
     "name": "stderr",
     "output_type": "stream",
     "text": [
      "/var/folders/gd/dd26w9817qzgh8n8g_6d541m0000gn/T/ipykernel_22508/4187002052.py:29: DeprecationWarning: Conversion of an array with ndim > 0 to a scalar is deprecated, and will error in future. Ensure you extract a single element from your array before performing this operation. (Deprecated NumPy 1.25.)\n",
      "  print('I1 (R1): {:5.3e} A'.format(float(I1)))\n",
      "/var/folders/gd/dd26w9817qzgh8n8g_6d541m0000gn/T/ipykernel_22508/4187002052.py:33: DeprecationWarning: Conversion of an array with ndim > 0 to a scalar is deprecated, and will error in future. Ensure you extract a single element from your array before performing this operation. (Deprecated NumPy 1.25.)\n",
      "  print('I2 (R2): {:5.3e} A'.format(float(I2)))\n",
      "/var/folders/gd/dd26w9817qzgh8n8g_6d541m0000gn/T/ipykernel_22508/4187002052.py:37: DeprecationWarning: Conversion of an array with ndim > 0 to a scalar is deprecated, and will error in future. Ensure you extract a single element from your array before performing this operation. (Deprecated NumPy 1.25.)\n",
      "  print('I3 (R3): {:5.3e} A'.format(float(I3)))\n",
      "/var/folders/gd/dd26w9817qzgh8n8g_6d541m0000gn/T/ipykernel_22508/4187002052.py:41: DeprecationWarning: Conversion of an array with ndim > 0 to a scalar is deprecated, and will error in future. Ensure you extract a single element from your array before performing this operation. (Deprecated NumPy 1.25.)\n",
      "  print('I4 (R4): {:5.3e} A'.format(float(I4)))\n"
     ]
    }
   ],
   "source": [
    "import PySpice.Logging.Logging as Logging\n",
    "logger = Logging.setup_logging()\n",
    "from PySpice.Spice.Netlist import Circuit\n",
    "from PySpice.Unit import *\n",
    "\n",
    "# Create circuit\n",
    "circuit = Circuit('Example Circuit 3')\n",
    "circuit.R(1, 1, 2, 5@u_Ω)\n",
    "circuit.R(2, 2, circuit.gnd, 10@u_Ω)\n",
    "circuit.R(3, 2, 3, 20@u_Ω)\n",
    "circuit.R(4, 3, circuit.gnd, 40@u_Ω)\n",
    "circuit.V(1, 1, circuit.gnd, 50@u_V)\n",
    "circuit.I(1, circuit.gnd, 3, 3@u_A)\n",
    "\n",
    "# Run simulation\n",
    "simulator = circuit.simulator(temperature=25, nominal_temperature=25)\n",
    "analysis = simulator.operating_point()\n",
    "\n",
    "# Print node voltages\n",
    "print(\"Node Voltages:\")\n",
    "for node_name, voltage in analysis.nodes.items():\n",
    "    print('Node {}: {:4.2f} V'.format(node_name, float(voltage[0])))\n",
    "\n",
    "# Calculate currents using Ohm's law\n",
    "print(\"\\nResistor Currents:\")\n",
    "\n",
    "# Extract voltages as scalars\n",
    "V1 = float(analysis['1'][0])\n",
    "V2 = float(analysis['2'][0])\n",
    "V3 = float(analysis['3'][0])\n",
    "\n",
    "# Extract resistances as scalars\n",
    "R1 = float(circuit.R1.resistance)\n",
    "R2 = float(circuit.R2.resistance)\n",
    "R3 = float(circuit.R3.resistance)\n",
    "R4 = float(circuit.R4.resistance)\n",
    "\n",
    "# Calculate currents (now all operations are on scalars)\n",
    "I1 = (V1 - V2) / R1\n",
    "I2 = V2 / R2\n",
    "I3 = (V2 - V3) / R3\n",
    "I4 = V3 / R4\n",
    "\n",
    "# Print results (no float() conversion needed since they're already scalars)\n",
    "print('I1 (R1): {:5.3e} A'.format(I1))\n",
    "print('I2 (R2): {:5.3e} A'.format(I2))\n",
    "print('I3 (R3): {:5.3e} A'.format(I3))\n",
    "print('I4 (R4): {:5.3e} A'.format(I4))"
   ]
  }
 ],
 "metadata": {
  "kernelspec": {
   "display_name": "Python 3 (ipykernel)",
   "language": "python",
   "name": "python3"
  },
  "language_info": {
   "codemirror_mode": {
    "name": "ipython",
    "version": 3
   },
   "file_extension": ".py",
   "mimetype": "text/x-python",
   "name": "python",
   "nbconvert_exporter": "python",
   "pygments_lexer": "ipython3",
   "version": "3.9.4"
  }
 },
 "nbformat": 4,
 "nbformat_minor": 5
}
