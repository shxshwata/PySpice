{
 "cells": [
  {
   "cell_type": "code",
   "execution_count": null,
   "id": "90294663-6fb2-440a-b478-6e62135565aa",
   "metadata": {},
   "outputs": [],
   "source": [
    "import PySpice.Logging.Logging as Logging\n",
    "logger = Logging.setup_logging()"
   ]
  },
  {
   "cell_type": "code",
   "execution_count": null,
   "id": "ac859db3-73a7-4f1b-85cd-55449c26d774",
   "metadata": {},
   "outputs": [],
   "source": [
    "from PySpice.Spice.Netlist import Circuit\n",
    "from PySpice.Unit import *\n",
    "import numpy as np"
   ]
  },
  {
   "cell_type": "code",
   "execution_count": null,
   "id": "c6339fae-1fe9-4a1a-9556-071ae8be46d8",
   "metadata": {},
   "outputs": [],
   "source": [
    "circuit = Circuit('Circuit with VCVS')"
   ]
  },
  {
   "cell_type": "code",
   "execution_count": null,
   "id": "31b250d2-803e-4ddf-a832-908a033642c4",
   "metadata": {},
   "outputs": [],
   "source": [
    "circuit.R(1, 3, circuit.gnd, 5@u_Ω)     \n",
    "circuit.R(2, 1, circuit.gnd, 6@u_Ω)  \n",
    "circuit.R(3, 2, 3, 4@u_Ω)             \n",
    "circuit.R(4, 3, 4, 8@u_Ω)                  \n",
    "circuit.R(5, 5, circuit.gnd, 15@u_Ω)   "
   ]
  },
  {
   "cell_type": "code",
   "execution_count": null,
   "id": "51a1c53a-2e2e-491d-bcbf-e4b9c543c6e2",
   "metadata": {},
   "outputs": [],
   "source": [
    "circuit.V(1, 2, 1, 65@u_V)            "
   ]
  },
  {
   "cell_type": "code",
   "execution_count": null,
   "id": "e6f4f9e0-0620-45b1-82ca-c13bd39fd527",
   "metadata": {},
   "outputs": [],
   "source": [
    "circuit.VCVS(1, 4, 5, 2, 3, 3)"
   ]
  },
  {
   "cell_type": "code",
   "execution_count": null,
   "id": "aad9b271-0f41-46de-ba1f-b4532cf92486",
   "metadata": {},
   "outputs": [],
   "source": [
    "simulator = circuit.simulator(temperature=25, nominal_temperature=25)\n",
    "analysis = simulator.operating_point()"
   ]
  },
  {
   "cell_type": "code",
   "execution_count": null,
   "id": "5d210cc4-6341-482c-97db-c126e7855c2e",
   "metadata": {},
   "outputs": [],
   "source": [
    "for name, node in analysis.nodes.items():\n",
    "    value = node if np.isscalar(node) else node[0]\n",
    "    print(f'Node {name}: {float(value):.2f} V')"
   ]
  },
  {
   "cell_type": "code",
   "execution_count": null,
   "id": "b759598a-7232-4055-85db-34f2fafce205",
   "metadata": {},
   "outputs": [],
   "source": [
    "for name, branch in analysis.branches.items():\n",
    "    value = branch if np.isscalar(branch) else branch[0]\n",
    "    print(f'Branch {name}: {float(value):.2f} A')"
   ]
  }
 ],
 "metadata": {
  "kernelspec": {
   "display_name": "Python 3 (ipykernel)",
   "language": "python",
   "name": "python3"
  },
  "language_info": {
   "codemirror_mode": {
    "name": "ipython",
    "version": 3
   },
   "file_extension": ".py",
   "mimetype": "text/x-python",
   "name": "python",
   "nbconvert_exporter": "python",
   "pygments_lexer": "ipython3",
   "version": "3.9.4"
  }
 },
 "nbformat": 4,
 "nbformat_minor": 5
}
