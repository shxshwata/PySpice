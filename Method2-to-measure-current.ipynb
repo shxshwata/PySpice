{
 "cells": [
  {
   "cell_type": "code",
   "execution_count": 8,
   "id": "3ea33495-1d70-40e9-a777-83f46c109b31",
   "metadata": {},
   "outputs": [
    {
     "ename": "AttributeError",
     "evalue": "add_current_probe",
     "output_type": "error",
     "traceback": [
      "\u001b[0;31m---------------------------------------------------------------------------\u001b[0m",
      "\u001b[0;31mAttributeError\u001b[0m                            Traceback (most recent call last)",
      "Cell \u001b[0;32mIn[8], line 19\u001b[0m\n\u001b[1;32m     17\u001b[0m \u001b[38;5;66;03m# ✅ Add current probes correctly\u001b[39;00m\n\u001b[1;32m     18\u001b[0m \u001b[38;5;28;01mfor\u001b[39;00m resistor \u001b[38;5;129;01min\u001b[39;00m (circuit\u001b[38;5;241m.\u001b[39mR1, circuit\u001b[38;5;241m.\u001b[39mR2, circuit\u001b[38;5;241m.\u001b[39mR3, circuit\u001b[38;5;241m.\u001b[39mR4):\n\u001b[0;32m---> 19\u001b[0m     \u001b[43mresistor\u001b[49m\u001b[38;5;241;43m.\u001b[39;49m\u001b[43madd_current_probe\u001b[49m(circuit)\n\u001b[1;32m     21\u001b[0m \u001b[38;5;66;03m# Run the simulation\u001b[39;00m\n\u001b[1;32m     22\u001b[0m simulator \u001b[38;5;241m=\u001b[39m circuit\u001b[38;5;241m.\u001b[39msimulator(temperature\u001b[38;5;241m=\u001b[39m\u001b[38;5;241m25\u001b[39m, nominal_temperature\u001b[38;5;241m=\u001b[39m\u001b[38;5;241m25\u001b[39m)\n",
      "File \u001b[0;32m/Library/Frameworks/Python.framework/Versions/3.9/lib/python3.9/site-packages/PySpice/Spice/Netlist.py:605\u001b[0m, in \u001b[0;36mElement.__getattr__\u001b[0;34m(self, name)\u001b[0m\n\u001b[1;32m    603\u001b[0m     \u001b[38;5;28;01mreturn\u001b[39;00m \u001b[38;5;28mobject\u001b[39m\u001b[38;5;241m.\u001b[39m\u001b[38;5;21m__getattribute__\u001b[39m(\u001b[38;5;28mself\u001b[39m, parameter\u001b[38;5;241m.\u001b[39mattribute_name)\n\u001b[1;32m    604\u001b[0m \u001b[38;5;28;01melse\u001b[39;00m:\n\u001b[0;32m--> 605\u001b[0m     \u001b[38;5;28;01mraise\u001b[39;00m \u001b[38;5;167;01mAttributeError\u001b[39;00m(name)\n",
      "\u001b[0;31mAttributeError\u001b[0m: add_current_probe"
     ]
    }
   ],
   "source": [
    "import PySpice.Logging.Logging as Logging\n",
    "logger = Logging.setup_logging()\n",
    "from PySpice.Spice.Netlist import Circuit\n",
    "from PySpice.Unit import *\n",
    "\n",
    "# Define the circuit\n",
    "circuit = Circuit('Example Circuit 2')\n",
    "circuit.R(1, 1, 2, 5@u_Ω)\n",
    "circuit.R(2, 2, circuit.gnd, 10@u_Ω)\n",
    "circuit.R(3, 2, 3, 20@u_Ω)\n",
    "circuit.R(4, 3, circuit.gnd, 40@u_Ω)\n",
    "circuit.V(1, 1, circuit.gnd, 50@u_V)\n",
    "circuit.I(1, circuit.gnd, 3, 3@u_A)\n",
    "\n",
    "# Run the simulation\n",
    "simulator = circuit.simulator(temperature=25, nominal_temperature=25)\n",
    "analysis = simulator.operating_point()\n",
    "\n",
    "# Print all branch currents (includes sources and resistors)\n",
    "print(\"Branch Currents:\")\n",
    "for branch, current in analysis.branches.items():\n",
    "    print(f'  {branch}: {float(current[0]):5.3f} A')\n",
    "\n",
    "# Print node voltages\n",
    "print(\"\\nNode Voltages:\")\n",
    "for node, voltage in analysis.nodes.items():\n",
    "    print(f'  {node}: {float(voltage[0]):5.2f} V')\n",
    "\n",
    "# Calculate and print resistor currents using Ohm's law\n",
    "print(\"\\nResistor Currents (calculated from V=IR):\")\n",
    "resistors = [circuit.R1, circuit.R2, circuit.R3, circuit.R4]\n",
    "for resistor in resistors:\n",
    "    # Get the nodes connected to this resistor\n",
    "    n1, n2 = resistor.nodes\n",
    "    \n",
    "    # Get voltages at both nodes (convert to float)\n",
    "    v1 = float(analysis.nodes[str(n1)][0]) if str(n1) != '0' else 0.0\n",
    "    v2 = float(analysis.nodes[str(n2)][0]) if str(n2) != '0' else 0.0\n",
    "    \n",
    "    # Calculate voltage across resistor\n",
    "    v_resistor = v1 - v2\n",
    "    \n",
    "    # Calculate current using Ohm's law (I = V/R)\n",
    "    resistance = float(resistor.resistance)\n",
    "    current = v_resistor / resistance\n",
    "    \n",
    "    print(f'  {resistor.name}: {current:5.3f} A (from {n1} to {n2})')\n",
    "    print(f'    Voltage across: {v_resistor:5.2f} V, Resistance: {resistance:5.1f} Ω')"
   ]
  },
  {
   "cell_type": "code",
   "execution_count": null,
   "id": "6afd812e-3f47-49ec-be1d-ea0a9fa497b2",
   "metadata": {},
   "outputs": [],
   "source": []
  }
 ],
 "metadata": {
  "kernelspec": {
   "display_name": "Python 3 (ipykernel)",
   "language": "python",
   "name": "python3"
  },
  "language_info": {
   "codemirror_mode": {
    "name": "ipython",
    "version": 3
   },
   "file_extension": ".py",
   "mimetype": "text/x-python",
   "name": "python",
   "nbconvert_exporter": "python",
   "pygments_lexer": "ipython3",
   "version": "3.9.4"
  }
 },
 "nbformat": 4,
 "nbformat_minor": 5
}
