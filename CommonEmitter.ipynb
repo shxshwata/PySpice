{
 "cells": [
  {
   "cell_type": "code",
   "execution_count": null,
   "id": "5471f768-f6ef-471e-9b4e-7e918255e179",
   "metadata": {},
   "outputs": [],
   "source": [
    "import matplotlib.pyplot as plt\n",
    "from matplotlib.widgets import Cursor\n",
    "import numpy as np\n",
    "from engineering_notation import EngNumber\n",
    "import PySpice.Logging.Logging as Logging\n",
    "logger = Logging.setup_logging()\n",
    "from PySpice.Doc.ExampleTools import find_libraries\n",
    "from PySpice.Probe.Plot import plot\n",
    "from PySpice.Spice.Library import SpiceLibrary\n",
    "from PySpice.Spice.Netlist import Circuit\n",
    "from PySpice.Unit import *"
   ]
  },
  {
   "cell_type": "code",
   "execution_count": null,
   "id": "1ad55de6-d307-4e2a-b6f1-6a69d748311b",
   "metadata": {},
   "outputs": [],
   "source": [
    "circuit = Circuit('BJT CE Amplifier')"
   ]
  },
  {
   "cell_type": "code",
   "execution_count": null,
   "id": "e96be59a-229b-457a-9231-1a405a5fe71a",
   "metadata": {},
   "outputs": [],
   "source": [
    "amp = 1@u_mV\n",
    "freq = 1@u_kHz"
   ]
  },
  {
   "cell_type": "code",
   "execution_count": null,
   "id": "886472e0-3ade-4e73-8079-430f1b66ceef",
   "metadata": {},
   "outputs": [],
   "source": [
    "steptime = 1@u_us\n",
    "finaltime = 5@u_ms"
   ]
  },
  {
   "cell_type": "code",
   "execution_count": null,
   "id": "259bf531-e182-45dc-a2da-89cd05a012d2",
   "metadata": {},
   "outputs": [],
   "source": [
    "circuit.model('2N2222', 'npn', IS=1E-14, VAF=100, BF=200, IKF=0.3, XTB=1.5, BR=3, \n",
    "              CJC=8E-12, CJE=25E-12, TR=100E-9, TF=400E-12, ITF=1, VTF=2, XTF=3, \n",
    "              RB=10, RC=.3, RE=.2, VCEO=30)\n",
    "\n",
    "circuit.model('2N3904', 'npn', IS=1E-14, VAF=100, BF=300, IKF=0.4, XTB=1.5, BR=4, \n",
    "              CJC=4E-12, CJE=8E-12, RB=20, RC=0.1, RE=0.1, TR=250E-9, TF=350E-12, \n",
    "              ITF=1, VTF=2, XTF=3, VCEO=40)"
   ]
  },
  {
   "cell_type": "code",
   "execution_count": null,
   "id": "4a9539da-852b-496b-b1f4-a4b5702d3ff4",
   "metadata": {},
   "outputs": [],
   "source": [
    "source = circuit.SinusoidalVoltageSource(2, 'input', circuit.gnd, amplitude=amp, frequency=freq)\n",
    "circuit.R('s', 'input', 'in', 100@u_Ω)\n",
    "circuit.C(1, 'in', 'base', 10@u_uF)\n",
    "circuit.R('1', 'Vcc', 'base', 47@u_kΩ)\n",
    "circuit.R('2', 'base', circuit.gnd, 10@u_kΩ)\n",
    "circuit.R('C', 'Vcc', 'collector', 4.7@u_kΩ)\n",
    "circuit.R('E', 'emitter', circuit.gnd, 1@u_kΩ)\n",
    "circuit.V(1, 'Vcc', circuit.gnd, 15@u_V)\n",
    "circuit.BJT(1, 'collector', 'base', 'emitter', model='2N3904')\n",
    "circuit.C(2, 'collector', 'output', 10@u_uF)\n",
    "circuit.C(3, 'emitter', circuit.gnd, 100@u_uF)\n",
    "circuit.R('L', 'output', circuit.gnd, 47@u_kΩ)\n"
   ]
  },
  {
   "cell_type": "code",
   "execution_count": null,
   "id": "5a74d3a7-42a9-4a85-8946-c00be8018761",
   "metadata": {},
   "outputs": [],
   "source": [
    "simulator = circuit.simulator(temperature=25, nominal_temperature=25)\n",
    "analysis = simulator.transient(step_time=steptime, end_time=finaltime)"
   ]
  },
  {
   "cell_type": "code",
   "execution_count": null,
   "id": "40d22fa2-2bea-479c-a1bc-6057842da5f1",
   "metadata": {},
   "outputs": [],
   "source": [
    "i_b = ((analysis['input'] - analysis['in']) / circuit.Rs.resistance) + \\\n",
    "      ((analysis['Vcc'] - analysis['base']) / circuit.R1.resistance) - \\\n",
    "      (analysis['base'] / circuit.R2.resistance)\n"
   ]
  },
  {
   "cell_type": "code",
   "execution_count": null,
   "id": "a84f3002-9bd7-41c1-9baf-5c639272936c",
   "metadata": {},
   "outputs": [],
   "source": [
    "i_c = (analysis['Vcc'] - analysis['collector']) / circuit.RC.resistance\n"
   ]
  },
  {
   "cell_type": "code",
   "execution_count": null,
   "id": "5d9f3df9-509b-42e8-a0e8-a38b4e912a88",
   "metadata": {},
   "outputs": [],
   "source": [
    "i_L = analysis['output'] / circuit.RL.resistance\n",
    "print('------------------')\n",
    "print('Theoretical Values')\n",
    "print('------------------')"
   ]
  },
  {
   "cell_type": "code",
   "execution_count": null,
   "id": "b85b1a41-300e-4aab-9386-413ccd72e4a3",
   "metadata": {},
   "outputs": [],
   "source": [
    "beta = 300\n",
    "VBE = 0.7@u_V\n",
    "VT = 26@u_mV\n"
   ]
  },
  {
   "cell_type": "code",
   "execution_count": null,
   "id": "dadb4b98-7bbc-4b96-9965-5403cfb35861",
   "metadata": {},
   "outputs": [],
   "source": [
    "VTH = (circuit.V1.dc_value) * (circuit.R2.resistance / (circuit.R1.resistance + circuit.R2.resistance))\n",
    "RTH = (circuit.R1.resistance * circuit.R2.resistance) / (circuit.R1.resistance + circuit.R2.resistance)\n",
    "I_B = (VTH - VBE) / (RTH + (beta + 1) * circuit.RE.resistance)\n",
    "I_C = beta * I_B\n",
    "I_E = (beta + 1) * I_B\n",
    "V_CE = (circuit.V1.dc_value) - (I_C * circuit.RC.resistance) - (I_E * circuit.RE.resistance)\n",
    "V_C = (circuit.V1.dc_value) - (I_C * circuit.RC.resistance)\n",
    "V_E = I_E * circuit.RE.resistance"
   ]
  },
  {
   "cell_type": "code",
   "execution_count": null,
   "id": "8a9667d2-a66c-4619-9115-af9654a771ed",
   "metadata": {},
   "outputs": [],
   "source": [
    "XC3 = 1 / (2 * np.pi * float(freq) * float(circuit.C3.capacitance))\n",
    "RE_ac = (float(circuit.RE.resistance) * XC3) / (float(circuit.RE.resistance) + XC3)\n"
   ]
  },
  {
   "cell_type": "code",
   "execution_count": null,
   "id": "aa9341aa-33de-4db4-a3fb-2816eeaf8352",
   "metadata": {},
   "outputs": [],
   "source": [
    "r_e = float(VT) / I_E\n",
    "r_pi = beta * r_e  # Input resistance of transistor\n",
    "R_in = (RTH * r_pi) / (RTH + r_pi)  # Input impedance of amplifier\n",
    "R_o = circuit.RC.resistance  # Output impedance\n"
   ]
  },
  {
   "cell_type": "code",
   "execution_count": null,
   "id": "9646f8eb-6868-4793-955a-9192c98c0230",
   "metadata": {},
   "outputs": [],
   "source": [
    "if RE_ac < r_e:  # Bypass capacitor is effective\n",
    "    A_voc = -float(circuit.RC.resistance) * beta / r_pi\n",
    "else:  # Bypass capacitor not effective\n",
    "    A_voc = -float(circuit.RC.resistance) * beta / (r_pi + (beta + 1) * RE_ac)\n"
   ]
  },
  {
   "cell_type": "code",
   "execution_count": null,
   "id": "69ea8c8b-8da1-4161-b373-d55f2a344463",
   "metadata": {},
   "outputs": [],
   "source": [
    "A_v = A_voc * (R_in / (R_in + circuit.Rs.resistance)) * \\\n",
    "      (circuit.RL.resistance / (circuit.RL.resistance + R_o))\n"
   ]
  },
  {
   "cell_type": "code",
   "execution_count": null,
   "id": "6a52e714-bb36-4ad7-8c80-4ba995335355",
   "metadata": {},
   "outputs": [],
   "source": [
    "time = np.array(analysis.time)\n",
    "v_out_ac = float(A_v) * float(amp) * np.sin(2 * np.pi * float(freq) * time)"
   ]
  },
  {
   "cell_type": "code",
   "execution_count": null,
   "id": "6de20b77-d4c3-44a1-8fa8-bf44585060a8",
   "metadata": {},
   "outputs": [],
   "source": [
    "print('VTH={} V'.format(EngNumber(float(VTH))))\n",
    "print('RTH={} Ω'.format(EngNumber(float(RTH))))\n",
    "print('IB={} A'.format(EngNumber(float(I_B))))\n",
    "print('IC={} A'.format(EngNumber(float(I_C))))\n",
    "print('IE={} A'.format(EngNumber(float(I_E))))\n",
    "print('VCE={} V'.format(EngNumber(float(V_CE))))\n",
    "print('VC={} V'.format(EngNumber(float(V_C))))\n",
    "print('VE={} V'.format(EngNumber(float(V_E))))\n",
    "print('re={} Ω'.format(EngNumber(float(r_e))))\n",
    "print('rpi={} Ω'.format(EngNumber(float(r_pi))))\n",
    "print('Rin={} Ω'.format(EngNumber(float(R_in))))\n",
    "print('Ro={} Ω'.format(EngNumber(float(R_o))))\n",
    "print('XC3={} Ω'.format(EngNumber(float(XC3))))\n",
    "print('RE_ac={} Ω'.format(EngNumber(float(RE_ac))))\n",
    "print('Avoc={}'.format(EngNumber(float(A_voc))))\n",
    "print('Av={}'.format(EngNumber(float(A_v))))\n"
   ]
  },
  {
   "cell_type": "code",
   "execution_count": null,
   "id": "e51f2ff5-9a79-4925-9364-0efed1a59b53",
   "metadata": {},
   "outputs": [],
   "source": [
    "figure, axe = plt.subplots(figsize=(11, 6))\n",
    "\n",
    "axe = plt.subplot(311)\n",
    "plt.title('BJT CE Amplifier Currents')\n",
    "plt.ylabel('Current [A]')\n",
    "plt.grid()\n",
    "plot(i_b, axis=axe)\n",
    "plt.legend(['base current'], loc=(.05, .1))\n",
    "\n",
    "axe = plt.subplot(312)\n",
    "plt.ylabel('Current [A]')\n",
    "plt.grid()\n",
    "plot(i_c, axis=axe)\n",
    "plt.legend(['collector current'], loc=(.05, .1))\n",
    "\n",
    "axe = plt.subplot(313)\n",
    "plt.xlabel('Time [s]')\n",
    "plt.ylabel('Current [A]')\n",
    "plt.grid()\n",
    "plot(i_L, axis=axe)\n",
    "plt.legend(['load current'], loc=(.05, .1))\n"
   ]
  },
  {
   "cell_type": "code",
   "execution_count": null,
   "id": "e63c0228-5f2f-413d-98b1-b73d5840ff6e",
   "metadata": {},
   "outputs": [],
   "source": [
    "figure, axe = plt.subplots(figsize=(11, 6))\n",
    "plt.title('BJT CE Amplifier Voltages')\n",
    "plt.xlabel('Time [s]')\n",
    "plt.ylabel('Voltage [V]')\n",
    "plt.grid()\n",
    "\n",
    "plot(analysis['input'], axis=axe)\n",
    "plot(analysis['output'], axis=axe)\n",
    "plt.plot(time, v_out_ac, '--', linewidth=2)\n",
    "plt.legend(['sim: input', 'sim: output', 'theory: AC output'], loc=(.05, .1))\n",
    "\n",
    "cursor = Cursor(axe, useblit=True, color='red', linewidth=1)\n",
    "\n",
    "plt.show()"
   ]
  },
  {
   "cell_type": "code",
   "execution_count": null,
   "id": "ca8ebc80-97e2-4fda-b89e-4074a4f587a1",
   "metadata": {},
   "outputs": [],
   "source": [
    "input_amplitude = np.max(analysis['input']) - np.min(analysis['input'])\n",
    "output_amplitude = np.max(analysis['output']) - np.min(analysis['output'])\n",
    "simulated_gain = output_amplitude / input_amplitude\n",
    "\n",
    "print('\\n------------------')\n",
    "print('Simulation Results')\n",
    "print('------------------')\n",
    "print('Input amplitude: {} V'.format(EngNumber(float(input_amplitude))))\n",
    "print('Output amplitude: {} V'.format(EngNumber(float(output_amplitude))))\n",
    "print('Simulated gain: {}'.format(EngNumber(float(simulated_gain))))\n",
    "print('Theoretical gain: {}'.format(EngNumber(float(A_v))))\n",
    "print('Gain error: {:.1f}%'.format(100 * abs(float(simulated_gain - A_v)) / abs(float(A_v))))"
   ]
  }
 ],
 "metadata": {
  "kernelspec": {
   "display_name": "Python 3 (ipykernel)",
   "language": "python",
   "name": "python3"
  },
  "language_info": {
   "codemirror_mode": {
    "name": "ipython",
    "version": 3
   },
   "file_extension": ".py",
   "mimetype": "text/x-python",
   "name": "python",
   "nbconvert_exporter": "python",
   "pygments_lexer": "ipython3",
   "version": "3.9.4"
  }
 },
 "nbformat": 4,
 "nbformat_minor": 5
}
