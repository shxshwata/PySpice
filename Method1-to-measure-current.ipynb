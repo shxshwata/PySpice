{
 "cells": [
  {
   "cell_type": "code",
   "execution_count": 1,
   "id": "baeb3d87-0ac2-48c7-9f89-b9c9ac558a96",
   "metadata": {},
   "outputs": [
    {
     "name": "stdout",
     "output_type": "stream",
     "text": [
      "2025-05-25 16:40:04,639 - PySpice.Spice.NgSpice.Shared.NgSpiceShared - Shared.WARNING - Warning: can't find the initialization file spinit.\n",
      "2025-05-25 16:40:04,650 - PySpice.Spice.NgSpice.Shared.NgSpiceShared - Shared.WARNING - Unsupported Ngspice version 44\n",
      "Branch Currents:\n",
      "  vtest: 0.526 A\n",
      "  v1: -3.684 A\n",
      "\n",
      "Node Voltages:\n",
      "  3: 21.05 V\n",
      "  x: 21.05 V\n",
      "  2: 31.58 V\n",
      "  1: 50.00 V\n"
     ]
    },
    {
     "name": "stderr",
     "output_type": "stream",
     "text": [
      "/var/folders/gd/dd26w9817qzgh8n8g_6d541m0000gn/T/ipykernel_22100/469891302.py:22: DeprecationWarning: Conversion of an array with ndim > 0 to a scalar is deprecated, and will error in future. Ensure you extract a single element from your array before performing this operation. (Deprecated NumPy 1.25.)\n",
      "  print('  {}: {:5.3f} A'.format(str(node), float(node)))\n",
      "/var/folders/gd/dd26w9817qzgh8n8g_6d541m0000gn/T/ipykernel_22100/469891302.py:26: DeprecationWarning: Conversion of an array with ndim > 0 to a scalar is deprecated, and will error in future. Ensure you extract a single element from your array before performing this operation. (Deprecated NumPy 1.25.)\n",
      "  print('  {}: {:4.2f} V'.format(str(node), float(node)))\n"
     ]
    }
   ],
   "source": [
    "import PySpice.Logging.Logging as Logging\n",
    "logger = Logging.setup_logging()\n",
    "\n",
    "from PySpice.Spice.Netlist import Circuit\n",
    "from PySpice.Unit import *\n",
    "\n",
    "circuit = Circuit('Example Circuit 1')\n",
    "\n",
    "circuit.R(1, 1, 2, 5@u_Ω)\n",
    "circuit.R(2, 2, circuit.gnd, 10@u_Ω)\n",
    "circuit.R(3, 2, 'x', 20@u_Ω)\n",
    "circuit.V('test', 'x', 3, 0@u_V)  # Acts as voltage probe\n",
    "circuit.R(4, 3, circuit.gnd, 40@u_Ω)\n",
    "circuit.V(1, 1, circuit.gnd, 50@u_V)\n",
    "circuit.I(1, circuit.gnd, 3, 3@u_A)\n",
    "\n",
    "simulator = circuit.simulator(temperature=25, nominal_temperature=25)\n",
    "analysis = simulator.operating_point()\n",
    "\n",
    "print(\"Branch Currents:\")\n",
    "for node in analysis.branches.values():\n",
    "    print('  {}: {:5.3f} A'.format(str(node), float(node[0])\n",
    "))\n",
    "\n",
    "print(\"\\nNode Voltages:\")\n",
    "for node in analysis.nodes.values():\n",
    "    print('  {}: {:4.2f} V'.format(str(node), float(node[0])\n",
    "))\n"
   ]
  }
 ],
 "metadata": {
  "kernelspec": {
   "display_name": "Python 3 (ipykernel)",
   "language": "python",
   "name": "python3"
  },
  "language_info": {
   "codemirror_mode": {
    "name": "ipython",
    "version": 3
   },
   "file_extension": ".py",
   "mimetype": "text/x-python",
   "name": "python",
   "nbconvert_exporter": "python",
   "pygments_lexer": "ipython3",
   "version": "3.9.4"
  }
 },
 "nbformat": 4,
 "nbformat_minor": 5
}
