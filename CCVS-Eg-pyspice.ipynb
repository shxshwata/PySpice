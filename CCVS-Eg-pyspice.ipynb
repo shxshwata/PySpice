{
 "cells": [
  {
   "cell_type": "code",
   "execution_count": 14,
   "id": "26c122f3-8f04-46e2-97b1-942588603630",
   "metadata": {},
   "outputs": [],
   "source": [
    "import PySpice.Logging.Logging as Logging\n",
    "logger=Logging.setup_logging()"
   ]
  },
  {
   "cell_type": "code",
   "execution_count": 15,
   "id": "617bf643-c0b0-4b96-acd6-891717f61102",
   "metadata": {},
   "outputs": [],
   "source": [
    "from PySpice.Spice.Netlist import Circuit\n",
    "from PySpice.Unit import *\n",
    "import numpy as np"
   ]
  },
  {
   "cell_type": "code",
   "execution_count": 16,
   "id": "19d9389b-6b70-4f76-a30c-7eca79524112",
   "metadata": {},
   "outputs": [
    {
     "data": {
      "text/plain": [
       "CurrentControlledVoltageSource H1"
      ]
     },
     "execution_count": 16,
     "metadata": {},
     "output_type": "execute_result"
    }
   ],
   "source": [
    "circuit = Circuit('Circuit with CCVS')\n",
    "circuit.R(1, 1, 2,            2@u_Ω)\n",
    "circuit.R(2, 2, circuit.gnd, 20@u_Ω)\n",
    "circuit.R(3, 2, 3,            5@u_Ω)\n",
    "circuit.R(4, 4, circuit.gnd, 10@u_Ω)\n",
    "circuit.R(5, 4, 5,            2@u_Ω)\n",
    "circuit.V(1, 1, circuit.gnd, 20@u_V)\n",
    "circuit.V('test', 3, 4, 0@u_V)\n",
    "circuit.H(1, 5, circuit.gnd, 'Vtest', 8)"
   ]
  },
  {
   "cell_type": "code",
   "execution_count": 17,
   "id": "bb6952ee-3d7d-4bda-9c8b-d0b2269dc985",
   "metadata": {},
   "outputs": [],
   "source": [
    "simulator = circuit.simulator(temperature=25, nominal_temperature=25)\n",
    "analysis = simulator.operating_point()"
   ]
  },
  {
   "cell_type": "code",
   "execution_count": 18,
   "id": "429f0d9d-98bc-467d-97c0-4b006b1af672",
   "metadata": {},
   "outputs": [
    {
     "name": "stdout",
     "output_type": "stream",
     "text": [
      "Node 5:  9.6 V\n",
      "Node 4: 10.0 V\n",
      "Node 3: 10.0 V\n",
      "Node 2: 16.0 V\n",
      "Node 1: 20.0 V\n"
     ]
    }
   ],
   "source": [
    "for node in analysis.nodes.values():\n",
    "    value = node if np.isscalar(node) else node[0]\n",
    "    print('Node {}: {:4.1f} V'.format(str(node), float(value)))"
   ]
  },
  {
   "cell_type": "code",
   "execution_count": 19,
   "id": "c95ee79c-c4ed-4442-a89c-c243d3f93a42",
   "metadata": {},
   "outputs": [
    {
     "name": "stdout",
     "output_type": "stream",
     "text": [
      "Branch v1: -2.00 A\n",
      "Branch vtest:  1.20 A\n",
      "Branch h1:  0.20 A\n"
     ]
    }
   ],
   "source": [
    "for branch in analysis.branches.values():\n",
    "    value = branch if np.isscalar(branch) else branch[0]\n",
    "    print('Branch {}: {:5.2f} A'.format(str(branch), float(value)))"
   ]
  }
 ],
 "metadata": {
  "kernelspec": {
   "display_name": "Python 3 (ipykernel)",
   "language": "python",
   "name": "python3"
  },
  "language_info": {
   "codemirror_mode": {
    "name": "ipython",
    "version": 3
   },
   "file_extension": ".py",
   "mimetype": "text/x-python",
   "name": "python",
   "nbconvert_exporter": "python",
   "pygments_lexer": "ipython3",
   "version": "3.9.4"
  }
 },
 "nbformat": 4,
 "nbformat_minor": 5
}
