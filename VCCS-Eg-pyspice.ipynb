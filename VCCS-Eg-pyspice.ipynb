{
 "cells": [
  {
   "cell_type": "code",
   "execution_count": null,
   "id": "bf80f39b-ae5f-4d07-90d9-c5ed032aab8a",
   "metadata": {},
   "outputs": [],
   "source": [
    "import PySpice.Logging.Logging as Logging\n",
    "logger = Logging.setup_logging()"
   ]
  },
  {
   "cell_type": "code",
   "execution_count": null,
   "id": "fff74b1a-e73f-46cc-bedd-14e84933841a",
   "metadata": {},
   "outputs": [],
   "source": [
    "from PySpice.Spice.Netlist import Circuit\n",
    "from PySpice.Unit import *\n",
    "import numpy as np"
   ]
  },
  {
   "cell_type": "code",
   "execution_count": null,
   "id": "a418a424-85a0-44eb-8c3e-361deed7bbe5",
   "metadata": {},
   "outputs": [],
   "source": [
    "circuit = Circuit('Circuit with VCCS')"
   ]
  },
  {
   "cell_type": "code",
   "execution_count": null,
   "id": "e6e4fa6b-12d5-4554-bac3-c0ed4163c1af",
   "metadata": {},
   "outputs": [],
   "source": [
    "circuit.R(1, 1, 2, 0.5@u_kΩ)         \n",
    "circuit.R(2, 2, circuit.gnd, 1@u_kΩ) \n",
    "circuit.R(3, 2, 3, 2@u_kΩ)           \n",
    "circuit.R(4, 3, circuit.gnd, 200@u_Ω)"
   ]
  },
  {
   "cell_type": "code",
   "execution_count": null,
   "id": "8a8c03fa-9ea3-4392-83f2-146a2f1352ff",
   "metadata": {},
   "outputs": [],
   "source": [
    "circuit.V(1, 1, circuit.gnd, 50@u_V)"
   ]
  },
  {
   "cell_type": "code",
   "execution_count": null,
   "id": "e28b034a-6018-4000-a3d1-647d8e4cb930",
   "metadata": {},
   "outputs": [],
   "source": [
    "circuit.VCCS(1, circuit.gnd, 3, 2, circuit.gnd, 0.00133333333)"
   ]
  },
  {
   "cell_type": "code",
   "execution_count": null,
   "id": "e8414f0c-ad58-41c0-8636-461c7a063fd7",
   "metadata": {},
   "outputs": [],
   "source": [
    "simulator = circuit.simulator(temperature=25, nominal_temperature=25)\n",
    "analysis = simulator.operating_point()"
   ]
  },
  {
   "cell_type": "code",
   "execution_count": null,
   "id": "0e821f51-9133-43b4-bd80-0f4b6ecff445",
   "metadata": {},
   "outputs": [],
   "source": [
    "for name, node in analysis.nodes.items():\n",
    "    value = node if np.isscalar(node) else node[0]\n",
    "    print(f'Node {name}: {float(value):.2f} V')\n"
   ]
  },
  {
   "cell_type": "code",
   "execution_count": null,
   "id": "03447b41-0966-450a-b406-69c22768d7a1",
   "metadata": {},
   "outputs": [],
   "source": [
    "for name, branch in analysis.branches.items():\n",
    "    value = branch if np.isscalar(branch) else branch[0]\n",
    "    print(f'Branch {name}: {float(value):.2f} A')"
   ]
  }
 ],
 "metadata": {
  "kernelspec": {
   "display_name": "Python 3 (ipykernel)",
   "language": "python",
   "name": "python3"
  },
  "language_info": {
   "codemirror_mode": {
    "name": "ipython",
    "version": 3
   },
   "file_extension": ".py",
   "mimetype": "text/x-python",
   "name": "python",
   "nbconvert_exporter": "python",
   "pygments_lexer": "ipython3",
   "version": "3.9.4"
  }
 },
 "nbformat": 4,
 "nbformat_minor": 5
}
